{
 "cells": [
  {
   "cell_type": "code",
   "execution_count": 1,
   "metadata": {},
   "outputs": [],
   "source": [
    "#GETTING IMAGE DATA\n",
    "import os\n",
    "import numpy as np\n",
    "from PIL import Image\n",
    "\n",
    "empty_matrix = []\n",
    "path = r'F:\\Handwritten Calculator Project\\1. Creating Dataset\\Hand Drawn Images'\n",
    "\n",
    "for file in os.listdir(path):\n",
    "    file_path = os.path.join(path, file)\n",
    "    image = Image.open(file_path)\n",
    "    greyscale_image = image.convert('L')\n",
    "    pixel_intensities = np.array(greyscale_image.getdata())\n",
    "    pixel_array = pixel_intensities.reshape(28, 28)\n",
    "    empty_matrix.append(pixel_array)\n",
    "        \n",
    "Matrix_0 = np.array(empty_matrix, dtype=np.uint8)"
   ]
  },
  {
   "cell_type": "code",
   "execution_count": 2,
   "metadata": {},
   "outputs": [
    {
     "data": {
      "text/plain": [
       "(300, 28, 28)"
      ]
     },
     "execution_count": 2,
     "metadata": {},
     "output_type": "execute_result"
    }
   ],
   "source": [
    "Matrix_0.shape"
   ]
  },
  {
   "cell_type": "code",
   "execution_count": 3,
   "metadata": {},
   "outputs": [],
   "source": [
    "#LABEL CREATOR\n",
    "Labels = []\n",
    "\n",
    "for label in range(10,16):\n",
    "    for i in range(50):\n",
    "        Labels.append(label)\n",
    "\n",
    "Labels_1 = np.array(Labels, dtype=np.uint8)"
   ]
  },
  {
   "cell_type": "code",
   "execution_count": 4,
   "metadata": {},
   "outputs": [
    {
     "data": {
      "text/plain": [
       "(300,)"
      ]
     },
     "execution_count": 4,
     "metadata": {},
     "output_type": "execute_result"
    }
   ],
   "source": [
    "Labels_1.shape"
   ]
  },
  {
   "cell_type": "code",
   "execution_count": 5,
   "metadata": {},
   "outputs": [],
   "source": [
    "#TRANSFORMATION - PIXEL INVERSION\n",
    "\n",
    "Matrix_1 = np.invert(Matrix_0)"
   ]
  },
  {
   "cell_type": "code",
   "execution_count": 6,
   "metadata": {},
   "outputs": [],
   "source": [
    "#TRANSFORMATION - MIRROR IMAGES\n",
    "\n",
    "def flip_image(image):\n",
    "    image = image.reshape((28, 28))\n",
    "    flipped_image = np.flipud(image)\n",
    "    return flipped_image[np.newaxis, :]\n",
    "\n",
    "def mirror_image(image):\n",
    "    image = image.reshape((28, 28))\n",
    "    mirrored_image = np.fliplr(image)\n",
    "    return mirrored_image\n",
    "\n",
    "Matrix_temp_1 = np.array([image for image in Matrix_1])\n",
    "Labels_temp_1 = [label for label in Labels_1]\n",
    "\n",
    "idx=0\n",
    "for image, label in zip(Matrix_1, Labels_1):\n",
    "    if idx<50:\n",
    "        mirrored_image = mirror_image(image)\n",
    "        Matrix_temp_1 = np.concatenate((Matrix_temp_1, flip_image(mirrored_image)))\n",
    "        Labels_temp_1.append(label)  \n",
    "    else:\n",
    "        Matrix_temp_1 = np.concatenate((Matrix_temp_1, flip_image(image)))\n",
    "        Labels_temp_1.append(label)\n",
    "    idx=idx+1\n",
    "\n",
    "Matrix_2 = Matrix_temp_1\n",
    "Labels_2 = np.array(Labels_temp_1)"
   ]
  },
  {
   "cell_type": "code",
   "execution_count": 7,
   "metadata": {},
   "outputs": [
    {
     "name": "stdout",
     "output_type": "stream",
     "text": [
      "(28, 28)\n"
     ]
    }
   ],
   "source": [
    "print(Matrix_2[0].shape)"
   ]
  },
  {
   "cell_type": "code",
   "execution_count": 8,
   "metadata": {},
   "outputs": [
    {
     "name": "stdout",
     "output_type": "stream",
     "text": [
      "(600, 28, 28)\n",
      "(600,)\n"
     ]
    }
   ],
   "source": [
    "print(Matrix_2.shape)\n",
    "print(Labels_2.shape)"
   ]
  },
  {
   "cell_type": "code",
   "execution_count": 9,
   "metadata": {},
   "outputs": [],
   "source": [
    "#TRANSFORMATION - PIXEL SHIFT\n",
    "from scipy.ndimage.interpolation import shift\n",
    "\n",
    "def shift_image(image, dx, dy):\n",
    "    image = image.reshape((28, 28))\n",
    "    shifted_image = shift(image, [dy, dx], cval=0, mode=\"constant\")\n",
    "    return shifted_image[np.newaxis, :]\n",
    "\n",
    "Matrix_temp_2 = [image for image in Matrix_2]\n",
    "Labels_temp_2 = [label for label in Labels_2]\n",
    "\n",
    "for dx, dy in ((1, 0), (-1, 0), (0, 1), (0, -1)):\n",
    "    for image, label in zip(Matrix_2, Labels_2):\n",
    "        Matrix_temp_2 = np.concatenate((Matrix_temp_2, shift_image(image, dx, dy)))\n",
    "        Labels_temp_2.append(label)\n",
    "\n",
    "Matrix_3 = Matrix_temp_2\n",
    "Labels_3 = np.array(Labels_temp_2)"
   ]
  },
  {
   "cell_type": "code",
   "execution_count": 10,
   "metadata": {},
   "outputs": [
    {
     "name": "stdout",
     "output_type": "stream",
     "text": [
      "(3000, 28, 28)\n",
      "(3000,)\n"
     ]
    }
   ],
   "source": [
    "print(Matrix_3.shape)\n",
    "print(Labels_3.shape)"
   ]
  },
  {
   "cell_type": "code",
   "execution_count": 11,
   "metadata": {},
   "outputs": [],
   "source": [
    "#TRANSFORMATION - ROTATION\n",
    "\n",
    "def rotate_image(array, angle):\n",
    "    array = array.reshape((28, 28))\n",
    "    image = Image.fromarray(array, mode='L')\n",
    "    image = image.rotate(angle)\n",
    "    pixel_intensities = np.array(image.getdata())\n",
    "    pixel_array = pixel_intensities.reshape(28, 28)\n",
    "    return pixel_array[np.newaxis, :]\n",
    "\n",
    "Matrix_temp_3 = [image for image in Matrix_3]                 \n",
    "Labels_temp_3 = [label for label in Labels_3]\n",
    "\n",
    "for angle in (10, 350):\n",
    "    for image, label in zip(Matrix_3, Labels_3):\n",
    "        Matrix_temp_3 = np.concatenate((Matrix_temp_3, rotate_image(image, angle)))\n",
    "        Labels_temp_3.append(label)\n",
    "\n",
    "Matrix_4 = Matrix_temp_3\n",
    "Labels_4 = np.array(Labels_temp_3)"
   ]
  },
  {
   "cell_type": "code",
   "execution_count": 12,
   "metadata": {},
   "outputs": [
    {
     "name": "stdout",
     "output_type": "stream",
     "text": [
      "(9000, 28, 28)\n",
      "(9000,)\n"
     ]
    }
   ],
   "source": [
    "print(Matrix_4.shape)\n",
    "print(Labels_4.shape)"
   ]
  },
  {
   "cell_type": "code",
   "execution_count": 13,
   "metadata": {},
   "outputs": [
    {
     "name": "stdout",
     "output_type": "stream",
     "text": [
      "(36000, 28, 28)\n",
      "(36000,)\n"
     ]
    }
   ],
   "source": [
    "#REPEATING DATASET 4 TIMES TO GET TOTAL SIZE OF 36,000 (6000 EXAMPLES PER IMAGE)\n",
    "\n",
    "Matrix_5 = np.tile(Matrix_4, (4,1,1))\n",
    "Labels_5 = np.tile(Labels_4, (4))\n",
    "print(Matrix_5.shape)\n",
    "print(Labels_5.shape)"
   ]
  },
  {
   "cell_type": "code",
   "execution_count": 14,
   "metadata": {},
   "outputs": [],
   "source": [
    "#SHUFFLING DATASET\n",
    "shuffle_idx = np.random.permutation(len(Matrix_5))\n",
    "Matrix_5 = Matrix_5[shuffle_idx]\n",
    "Labels_5 = Labels_5[shuffle_idx]"
   ]
  },
  {
   "cell_type": "code",
   "execution_count": 15,
   "metadata": {},
   "outputs": [
    {
     "name": "stdout",
     "output_type": "stream",
     "text": [
      "(30000, 28, 28)\n",
      "(6000, 28, 28)\n",
      "(30000,)\n",
      "(6000,)\n"
     ]
    }
   ],
   "source": [
    "#SPLITTING DATASETS\n",
    "from sklearn.model_selection import train_test_split\n",
    "Matrix_train_set, Matrix_test_set = train_test_split(Matrix_5, test_size=6000, shuffle=False)\n",
    "Labels_train_set, Labels_test_set = train_test_split(Labels_5, test_size=6000, shuffle=False)\n",
    "print(Matrix_train_set.shape)\n",
    "print(Matrix_test_set.shape)\n",
    "print(Labels_train_set.shape)\n",
    "print(Labels_test_set.shape)"
   ]
  },
  {
   "cell_type": "code",
   "execution_count": 19,
   "metadata": {},
   "outputs": [],
   "source": [
    "#IMPORTING MNIST\n",
    "import tensorflow as tf\n",
    "from tensorflow import keras\n",
    "\n",
    "mnist = keras.datasets.mnist\n",
    "(X_train, y_train), (X_test, y_test) = mnist.load_data()"
   ]
  },
  {
   "cell_type": "code",
   "execution_count": 21,
   "metadata": {},
   "outputs": [
    {
     "name": "stdout",
     "output_type": "stream",
     "text": [
      "(90000, 28, 28)\n",
      "(90000,)\n",
      "(16000, 28, 28)\n",
      "(16000,)\n"
     ]
    }
   ],
   "source": [
    "#JOINING MNIST WITH OUR DATASETS\n",
    "X_train_full = np.concatenate((X_train, Matrix_train_set))\n",
    "y_train_full = np.concatenate((y_train, Labels_train_set))\n",
    "X_test_full = np.concatenate((X_test, Matrix_test_set))\n",
    "y_test_full = np.concatenate((y_test, Labels_test_set))\n",
    "print(X_train_full.shape)\n",
    "print(y_train_full.shape)\n",
    "print(X_test_full.shape)\n",
    "print(y_test_full.shape)"
   ]
  },
  {
   "cell_type": "code",
   "execution_count": 22,
   "metadata": {},
   "outputs": [
    {
     "name": "stdout",
     "output_type": "stream",
     "text": [
      "(90000, 28, 28)\n",
      "(90000,)\n",
      "(16000, 28, 28)\n",
      "(16000,)\n"
     ]
    }
   ],
   "source": [
    "#SHUFFLING DATASETS\n",
    "shuffle_idx_1 = np.random.permutation(len(X_train_full))\n",
    "shuffle_idx_2 = np.random.permutation(len(X_test_full))\n",
    "\n",
    "X_train_full = X_train_full[shuffle_idx_1]\n",
    "y_train_full = y_train_full[shuffle_idx_1]\n",
    "X_test_full = X_test_full[shuffle_idx_2]\n",
    "y_test_full = y_test_full[shuffle_idx_2]\n",
    "print(X_train_full.shape)\n",
    "print(y_train_full.shape)\n",
    "print(X_test_full.shape)\n",
    "print(y_test_full.shape)"
   ]
  },
  {
   "cell_type": "code",
   "execution_count": 23,
   "metadata": {},
   "outputs": [],
   "source": [
    "#EXPORTING DATA (NEED TO COPY FILE TO SECOND FOLDER)\n",
    "# import h5py\n",
    "# with h5py.File('Final Dataset.h5', 'w') as hdf:\n",
    "#     hdf.create_dataset('X_train_full', data=X_train_full)\n",
    "#     hdf.create_dataset('y_train_full', data=y_train_full)\n",
    "#     hdf.create_dataset('X_test_full', data=X_test_full)\n",
    "#     hdf.create_dataset('y_test_full', data=y_test_full)"
   ]
  }
 ],
 "metadata": {
  "kernelspec": {
   "display_name": "Python 3",
   "language": "python",
   "name": "python3"
  },
  "language_info": {
   "codemirror_mode": {
    "name": "ipython",
    "version": 3
   },
   "file_extension": ".py",
   "mimetype": "text/x-python",
   "name": "python",
   "nbconvert_exporter": "python",
   "pygments_lexer": "ipython3",
   "version": "3.8.7"
  }
 },
 "nbformat": 4,
 "nbformat_minor": 4
}
