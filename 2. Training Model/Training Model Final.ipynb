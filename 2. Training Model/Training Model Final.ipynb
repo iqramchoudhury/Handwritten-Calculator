{
 "cells": [
  {
   "cell_type": "code",
   "execution_count": 1,
   "metadata": {},
   "outputs": [],
   "source": [
    "#IMPORTING FULL DATASETS  \n",
    "import numpy as np\n",
    "import h5py\n",
    "\n",
    "with h5py.File('Final Dataset.h5', 'r') as hdf:\n",
    "    X_train_full_temp = hdf.get('X_train_full')\n",
    "    y_train_full_temp = hdf.get('y_train_full')\n",
    "    X_test_full_temp = hdf.get('X_test_full')\n",
    "    y_test_full_temp = hdf.get('y_test_full')\n",
    "    \n",
    "    X_train_full = np.array(X_train_full_temp)\n",
    "    y_train_full = np.array(y_train_full_temp)\n",
    "    X_test_full = np.array(X_test_full_temp)\n",
    "    y_test_full = np.array(y_test_full_temp)"
   ]
  },
  {
   "cell_type": "code",
   "execution_count": 2,
   "metadata": {},
   "outputs": [
    {
     "name": "stdout",
     "output_type": "stream",
     "text": [
      "(90000, 28, 28)\n",
      "(90000,)\n",
      "(16000, 28, 28)\n",
      "(16000,)\n"
     ]
    }
   ],
   "source": [
    "print(X_train_full.shape)\n",
    "print(y_train_full.shape)\n",
    "print(X_test_full.shape)\n",
    "print(y_test_full.shape)"
   ]
  },
  {
   "cell_type": "code",
   "execution_count": 3,
   "metadata": {},
   "outputs": [],
   "source": [
    "#NORMALISING\n",
    "X_train_full = X_train_full.astype(np.float32)/ 255.0\n",
    "X_test_full = X_test_full.astype(np.float32)/ 255.0"
   ]
  },
  {
   "cell_type": "code",
   "execution_count": 4,
   "metadata": {},
   "outputs": [
    {
     "name": "stdout",
     "output_type": "stream",
     "text": [
      "(90000, 28, 28, 1)\n",
      "(16000, 28, 28, 1)\n"
     ]
    }
   ],
   "source": [
    "#RESHAPING DATA TO HAVE A SINGLE COLOUR CHANNEL\n",
    "X_train_full = X_train_full.reshape((X_train_full.shape[0], 28, 28, 1))\n",
    "X_test_full = X_test_full.reshape((X_test_full.shape[0], 28, 28, 1))\n",
    "print(X_train_full.shape)\n",
    "print(X_test_full.shape)"
   ]
  },
  {
   "cell_type": "code",
   "execution_count": 5,
   "metadata": {},
   "outputs": [
    {
     "name": "stdout",
     "output_type": "stream",
     "text": [
      "(90000, 32, 32, 1)\n",
      "(16000, 32, 32, 1)\n"
     ]
    }
   ],
   "source": [
    "#PADDING IMAGES WITH 0'S TO MAKE 32X32 PIXEL IMAGES\n",
    "X_train_full = np.pad(X_train_full, ((0,0),(2,2),(2,2),(0,0)), 'constant')\n",
    "X_test_full = np.pad(X_test_full, ((0,0),(2,2),(2,2),(0,0)), 'constant')\n",
    "print(X_train_full.shape)\n",
    "print(X_test_full.shape)"
   ]
  },
  {
   "cell_type": "code",
   "execution_count": 6,
   "metadata": {},
   "outputs": [
    {
     "name": "stdout",
     "output_type": "stream",
     "text": [
      "(70000, 32, 32, 1)\n",
      "(20000, 32, 32, 1)\n"
     ]
    }
   ],
   "source": [
    "#CREATING A VALIDATION SET\n",
    "X_valid, X_train = X_train_full[:20000], X_train_full[20000:]\n",
    "y_valid, y_train = y_train_full[:20000], y_train_full[20000:]\n",
    "print(X_train.shape)\n",
    "print(X_valid.shape)"
   ]
  },
  {
   "cell_type": "code",
   "execution_count": 7,
   "metadata": {},
   "outputs": [],
   "source": [
    "#CHANGING THE LABEL DATA TO CATEGORICAL\n",
    "from keras.utils.np_utils import to_categorical\n",
    "\n",
    "y_train = to_categorical(y_train)\n",
    "y_valid = to_categorical(y_valid)\n",
    "y_test = to_categorical(y_test_full)"
   ]
  },
  {
   "cell_type": "code",
   "execution_count": 8,
   "metadata": {},
   "outputs": [],
   "source": [
    "#BUILIDING A LeNet-5 NEURAL NETWORK \n",
    "import tensorflow as tf\n",
    "from tensorflow import keras\n",
    "from functools import partial\n",
    "\n",
    "model = keras.models.Sequential([\n",
    "    keras.layers.Conv2D(filters=6, kernel_size=(3,3), activation='relu', input_shape=[32, 32, 1]),\n",
    "    keras.layers.AveragePooling2D(),\n",
    "    keras.layers.Conv2D(filters=16, kernel_size=(3,3), activation='relu'),\n",
    "    keras.layers.AveragePooling2D(),\n",
    "    keras.layers.Flatten(),\n",
    "    keras.layers.Dense(units=120, activation='relu'),\n",
    "    keras.layers.Dense(units=84, activation='relu'),\n",
    "    keras.layers.Dense(units=16, activation='softmax'),\n",
    "])"
   ]
  },
  {
   "cell_type": "code",
   "execution_count": 9,
   "metadata": {},
   "outputs": [
    {
     "name": "stdout",
     "output_type": "stream",
     "text": [
      "Model: \"sequential\"\n",
      "_________________________________________________________________\n",
      "Layer (type)                 Output Shape              Param #   \n",
      "=================================================================\n",
      "conv2d (Conv2D)              (None, 30, 30, 6)         60        \n",
      "_________________________________________________________________\n",
      "average_pooling2d (AveragePo (None, 15, 15, 6)         0         \n",
      "_________________________________________________________________\n",
      "conv2d_1 (Conv2D)            (None, 13, 13, 16)        880       \n",
      "_________________________________________________________________\n",
      "average_pooling2d_1 (Average (None, 6, 6, 16)          0         \n",
      "_________________________________________________________________\n",
      "flatten (Flatten)            (None, 576)               0         \n",
      "_________________________________________________________________\n",
      "dense (Dense)                (None, 120)               69240     \n",
      "_________________________________________________________________\n",
      "dense_1 (Dense)              (None, 84)                10164     \n",
      "_________________________________________________________________\n",
      "dense_2 (Dense)              (None, 16)                1360      \n",
      "=================================================================\n",
      "Total params: 81,704\n",
      "Trainable params: 81,704\n",
      "Non-trainable params: 0\n",
      "_________________________________________________________________\n"
     ]
    }
   ],
   "source": [
    "model.summary()"
   ]
  },
  {
   "cell_type": "code",
   "execution_count": 10,
   "metadata": {},
   "outputs": [],
   "source": [
    "#COMPILING MODEL\n",
    "model.compile(loss=keras.losses.categorical_crossentropy, \n",
    "              optimizer=keras.optimizers.Adam(), \n",
    "              metrics=['accuracy'])"
   ]
  },
  {
   "cell_type": "code",
   "execution_count": 11,
   "metadata": {},
   "outputs": [
    {
     "name": "stdout",
     "output_type": "stream",
     "text": [
      "Epoch 1/100\n",
      "700/700 [==============================] - 16s 22ms/step - loss: 0.8213 - accuracy: 0.7530 - val_loss: 0.1280 - val_accuracy: 0.9636\n",
      "Epoch 2/100\n",
      "700/700 [==============================] - 15s 21ms/step - loss: 0.1129 - accuracy: 0.9664 - val_loss: 0.0839 - val_accuracy: 0.9736\n",
      "Epoch 3/100\n",
      "700/700 [==============================] - 15s 21ms/step - loss: 0.0726 - accuracy: 0.9785 - val_loss: 0.0519 - val_accuracy: 0.9851\n",
      "Epoch 4/100\n",
      "700/700 [==============================] - 14s 21ms/step - loss: 0.0523 - accuracy: 0.9838 - val_loss: 0.0518 - val_accuracy: 0.9840\n",
      "Epoch 5/100\n",
      "700/700 [==============================] - 15s 21ms/step - loss: 0.0422 - accuracy: 0.9876 - val_loss: 0.0455 - val_accuracy: 0.9865\n",
      "Epoch 6/100\n",
      "700/700 [==============================] - 15s 21ms/step - loss: 0.0374 - accuracy: 0.9883 - val_loss: 0.0355 - val_accuracy: 0.9885\n",
      "Epoch 7/100\n",
      "700/700 [==============================] - 15s 21ms/step - loss: 0.0294 - accuracy: 0.9914 - val_loss: 0.0303 - val_accuracy: 0.9906\n",
      "Epoch 8/100\n",
      "700/700 [==============================] - 15s 21ms/step - loss: 0.0258 - accuracy: 0.9921 - val_loss: 0.0520 - val_accuracy: 0.9850\n",
      "Epoch 9/100\n",
      "700/700 [==============================] - 15s 21ms/step - loss: 0.0217 - accuracy: 0.9929 - val_loss: 0.0274 - val_accuracy: 0.9918\n",
      "Epoch 10/100\n",
      "700/700 [==============================] - 15s 21ms/step - loss: 0.0186 - accuracy: 0.9941 - val_loss: 0.0301 - val_accuracy: 0.9906\n",
      "Epoch 11/100\n",
      "700/700 [==============================] - 15s 21ms/step - loss: 0.0186 - accuracy: 0.9940 - val_loss: 0.0266 - val_accuracy: 0.9916\n",
      "Epoch 12/100\n",
      "700/700 [==============================] - 15s 21ms/step - loss: 0.0136 - accuracy: 0.9955 - val_loss: 0.0308 - val_accuracy: 0.9912\n",
      "Epoch 13/100\n",
      "700/700 [==============================] - 15s 21ms/step - loss: 0.0115 - accuracy: 0.9964 - val_loss: 0.0313 - val_accuracy: 0.9908\n",
      "Epoch 14/100\n",
      "700/700 [==============================] - 15s 22ms/step - loss: 0.0122 - accuracy: 0.9958 - val_loss: 0.0305 - val_accuracy: 0.9908\n",
      "Epoch 15/100\n",
      "700/700 [==============================] - 15s 21ms/step - loss: 0.0101 - accuracy: 0.9969 - val_loss: 0.0336 - val_accuracy: 0.9906\n",
      "Epoch 16/100\n",
      "700/700 [==============================] - 15s 22ms/step - loss: 0.0085 - accuracy: 0.9974 - val_loss: 0.0334 - val_accuracy: 0.9909\n",
      "Epoch 17/100\n",
      "700/700 [==============================] - 15s 22ms/step - loss: 0.0077 - accuracy: 0.9974 - val_loss: 0.0321 - val_accuracy: 0.9922\n",
      "Epoch 18/100\n",
      "700/700 [==============================] - 15s 22ms/step - loss: 0.0092 - accuracy: 0.9970 - val_loss: 0.0327 - val_accuracy: 0.9909\n",
      "Epoch 19/100\n",
      "700/700 [==============================] - 17s 25ms/step - loss: 0.0075 - accuracy: 0.9974 - val_loss: 0.0300 - val_accuracy: 0.9916\n",
      "Epoch 20/100\n",
      "700/700 [==============================] - 15s 21ms/step - loss: 0.0058 - accuracy: 0.9981 - val_loss: 0.0330 - val_accuracy: 0.9918\n",
      "Epoch 21/100\n",
      "700/700 [==============================] - 16s 23ms/step - loss: 0.0045 - accuracy: 0.9989 - val_loss: 0.0294 - val_accuracy: 0.9933\n"
     ]
    }
   ],
   "source": [
    "# TRAINING THE NERUAL NETWORK CLASSIFIER\n",
    "history = model.fit(X_train, y_train, epochs=100,\n",
    "                    batch_size=100,\n",
    "                    validation_data=(X_valid, y_valid), \n",
    "                    callbacks=[keras.callbacks.EarlyStopping(patience=10)]\n",
    "                   )"
   ]
  },
  {
   "cell_type": "code",
   "execution_count": 12,
   "metadata": {},
   "outputs": [
    {
     "name": "stdout",
     "output_type": "stream",
     "text": [
      "500/500 [==============================] - 2s 4ms/step - loss: 0.0224 - accuracy: 0.9941\n",
      "Test loss: 0.0223829448223114\n",
      "Test accuracy: 0.9941250085830688\n"
     ]
    }
   ],
   "source": [
    "#EVALUATING ON TEST SET\n",
    "score = model.evaluate(X_test_full, y_test)\n",
    "print('Test loss:', score[0])\n",
    "print('Test accuracy:', score[1])"
   ]
  },
  {
   "cell_type": "code",
   "execution_count": 13,
   "metadata": {},
   "outputs": [
    {
     "name": "stdout",
     "output_type": "stream",
     "text": [
      "Saved model to disk\n"
     ]
    }
   ],
   "source": [
    "#SAVING MODEL\n",
    "model.save(\"Trained Model.h5\")\n",
    "print(\"Saved model to disk\")"
   ]
  },
  {
   "cell_type": "code",
   "execution_count": null,
   "metadata": {},
   "outputs": [],
   "source": []
  }
 ],
 "metadata": {
  "kernelspec": {
   "display_name": "Python 3",
   "language": "python",
   "name": "python3"
  },
  "language_info": {
   "codemirror_mode": {
    "name": "ipython",
    "version": 3
   },
   "file_extension": ".py",
   "mimetype": "text/x-python",
   "name": "python",
   "nbconvert_exporter": "python",
   "pygments_lexer": "ipython3",
   "version": "3.8.7"
  }
 },
 "nbformat": 4,
 "nbformat_minor": 4
}
