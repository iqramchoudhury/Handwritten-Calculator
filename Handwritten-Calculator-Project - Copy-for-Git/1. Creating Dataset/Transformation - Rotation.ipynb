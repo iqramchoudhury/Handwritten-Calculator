{
 "cells": [
  {
   "cell_type": "code",
   "execution_count": 14,
   "metadata": {},
   "outputs": [],
   "source": [
    "#IMPORTING MNIST\n",
    "import tensorflow as tf\n",
    "from tensorflow import keras\n",
    "\n",
    "mnist = keras.datasets.mnist\n",
    "(X_train_full, y_train_full), (X_test, y_test) = mnist.load_data()"
   ]
  },
  {
   "cell_type": "code",
   "execution_count": 15,
   "metadata": {},
   "outputs": [],
   "source": [
    "#TRANSFORMATION STARTS HERE\n",
    "import numpy as np\n",
    "from PIL import Image\n",
    "\n",
    "def rotate_image(array, angle):\n",
    "    array = array.reshape((28, 28))\n",
    "    image = Image.fromarray(array, mode='L')\n",
    "    image = image.rotate(angle)\n",
    "    pixel_intensities = np.array(image.getdata())\n",
    "    pixel_array = pixel_intensities.reshape(28, 28)\n",
    "    return pixel_array\n",
    "#.reshape([-1])"
   ]
  },
  {
   "cell_type": "code",
   "execution_count": 21,
   "metadata": {},
   "outputs": [],
   "source": [
    "#DEFINING FUNCTION FOR SHIFT AND ROTATION\n",
    "#Using only a subset of the total datasets\n",
    "import numpy as np\n",
    "\n",
    "X_train_augmented = [image for image in X_train_full[0:100]]\n",
    "y_train_augmented = [label for label in y_train_full[0:100]]\n",
    "\n",
    "for angle in (10, 350):\n",
    "    for image, label in zip(X_train_full[0:100], y_train_full[0:100]):\n",
    "        X_train_augmented.append(rotate_image(image, angle))\n",
    "        y_train_augmented.append(label)\n",
    "\n",
    "X_train_augmented = np.array(X_train_augmented)\n",
    "y_train_augmented = np.array(y_train_augmented)"
   ]
  },
  {
   "cell_type": "code",
   "execution_count": 25,
   "metadata": {},
   "outputs": [
    {
     "data": {
      "image/png": "[encoded data removed]",
      "text/plain": [
       "<Figure size 864x216 with 1 Axes>"
      ]
     },
     "metadata": {
      "needs_background": "light"
     },
     "output_type": "display_data"
    },
    {
     "data": {
      "image/png": "[encoded data removed]",
      "text/plain": [
       "<Figure size 864x216 with 2 Axes>"
      ]
     },
     "metadata": {
      "needs_background": "light"
     },
     "output_type": "display_data"
    }
   ],
   "source": [
    "#ROTATION TEST\n",
    "import matplotlib.pyplot as plt\n",
    "\n",
    "image = X_train_augmented[5]\n",
    "flipped_image1 = X_train_augmented[105]\n",
    "flipped_image2 = X_train_augmented[205]\n",
    "\n",
    "plt.figure(figsize=(12,3))\n",
    "plt.subplot(131)\n",
    "plt.title(\"Original\", fontsize=14)\n",
    "plt.imshow(image.reshape(28, 28), interpolation=\"nearest\", cmap=\"Greys\")\n",
    "plt.figure(figsize=(12,3))\n",
    "plt.subplot(132)\n",
    "plt.title(\"Flipped Image\", fontsize=14)\n",
    "plt.imshow(flipped_image1.reshape(28, 28), interpolation=\"nearest\", cmap=\"Greys\")\n",
    "plt.subplot(133)\n",
    "plt.title(\"Flipped Image\", fontsize=14)\n",
    "plt.imshow(flipped_image2.reshape(28, 28), interpolation=\"nearest\", cmap=\"Greys\")\n",
    "plt.show()"
   ]
  },
  {
   "cell_type": "code",
   "execution_count": null,
   "metadata": {},
   "outputs": [],
   "source": []
  }
 ],
 "metadata": {
  "kernelspec": {
   "display_name": "Python 3",
   "language": "python",
   "name": "python3"
  },
  "language_info": {
   "codemirror_mode": {
    "name": "ipython",
    "version": 3
   },
   "file_extension": ".py",
   "mimetype": "text/x-python",
   "name": "python",
   "nbconvert_exporter": "python",
   "pygments_lexer": "ipython3",
   "version": "3.8.7"
  }
 },
 "nbformat": 4,
 "nbformat_minor": 4
}
